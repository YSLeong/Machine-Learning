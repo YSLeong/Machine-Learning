{
 "cells": [
  {
   "cell_type": "code",
   "execution_count": 10,
   "metadata": {},
   "outputs": [],
   "source": [
    "import pandas as pd\n",
    "import numpy as np\n",
    "from sklearn.model_selection import train_test_split, GridSearchCV\n",
    "from sklearn.metrics import classification_report\n",
    "from sklearn.svm import SVC\n",
    "import matplotlib.pyplot as plt"
   ]
  },
  {
   "cell_type": "code",
   "execution_count": 11,
   "metadata": {},
   "outputs": [
    {
     "data": {
      "text/html": [
       "<div>\n",
       "<style scoped>\n",
       "    .dataframe tbody tr th:only-of-type {\n",
       "        vertical-align: middle;\n",
       "    }\n",
       "\n",
       "    .dataframe tbody tr th {\n",
       "        vertical-align: top;\n",
       "    }\n",
       "\n",
       "    .dataframe thead th {\n",
       "        text-align: right;\n",
       "    }\n",
       "</style>\n",
       "<table border=\"1\" class=\"dataframe\">\n",
       "  <thead>\n",
       "    <tr style=\"text-align: right;\">\n",
       "      <th></th>\n",
       "      <th>Type</th>\n",
       "      <th>Alcohol</th>\n",
       "      <th>Malic</th>\n",
       "      <th>Ash</th>\n",
       "      <th>Alcalinity</th>\n",
       "      <th>Magnesium</th>\n",
       "      <th>Phenols</th>\n",
       "      <th>Flavanoids</th>\n",
       "      <th>Nonflavanoids</th>\n",
       "      <th>Proanthocyanins</th>\n",
       "      <th>Color</th>\n",
       "      <th>Hue</th>\n",
       "      <th>Dilution</th>\n",
       "      <th>Proline</th>\n",
       "    </tr>\n",
       "  </thead>\n",
       "  <tbody>\n",
       "    <tr>\n",
       "      <th>0</th>\n",
       "      <td>1</td>\n",
       "      <td>14.23</td>\n",
       "      <td>1.71</td>\n",
       "      <td>2.43</td>\n",
       "      <td>15.6</td>\n",
       "      <td>127</td>\n",
       "      <td>2.80</td>\n",
       "      <td>3.06</td>\n",
       "      <td>0.28</td>\n",
       "      <td>2.29</td>\n",
       "      <td>5.64</td>\n",
       "      <td>1.04</td>\n",
       "      <td>3.92</td>\n",
       "      <td>1065</td>\n",
       "    </tr>\n",
       "    <tr>\n",
       "      <th>1</th>\n",
       "      <td>1</td>\n",
       "      <td>13.20</td>\n",
       "      <td>1.78</td>\n",
       "      <td>2.14</td>\n",
       "      <td>11.2</td>\n",
       "      <td>100</td>\n",
       "      <td>2.65</td>\n",
       "      <td>2.76</td>\n",
       "      <td>0.26</td>\n",
       "      <td>1.28</td>\n",
       "      <td>4.38</td>\n",
       "      <td>1.05</td>\n",
       "      <td>3.40</td>\n",
       "      <td>1050</td>\n",
       "    </tr>\n",
       "    <tr>\n",
       "      <th>2</th>\n",
       "      <td>1</td>\n",
       "      <td>13.16</td>\n",
       "      <td>2.36</td>\n",
       "      <td>2.67</td>\n",
       "      <td>18.6</td>\n",
       "      <td>101</td>\n",
       "      <td>2.80</td>\n",
       "      <td>3.24</td>\n",
       "      <td>0.30</td>\n",
       "      <td>2.81</td>\n",
       "      <td>5.68</td>\n",
       "      <td>1.03</td>\n",
       "      <td>3.17</td>\n",
       "      <td>1185</td>\n",
       "    </tr>\n",
       "    <tr>\n",
       "      <th>3</th>\n",
       "      <td>1</td>\n",
       "      <td>14.37</td>\n",
       "      <td>1.95</td>\n",
       "      <td>2.50</td>\n",
       "      <td>16.8</td>\n",
       "      <td>113</td>\n",
       "      <td>3.85</td>\n",
       "      <td>3.49</td>\n",
       "      <td>0.24</td>\n",
       "      <td>2.18</td>\n",
       "      <td>7.80</td>\n",
       "      <td>0.86</td>\n",
       "      <td>3.45</td>\n",
       "      <td>1480</td>\n",
       "    </tr>\n",
       "    <tr>\n",
       "      <th>4</th>\n",
       "      <td>1</td>\n",
       "      <td>13.24</td>\n",
       "      <td>2.59</td>\n",
       "      <td>2.87</td>\n",
       "      <td>21.0</td>\n",
       "      <td>118</td>\n",
       "      <td>2.80</td>\n",
       "      <td>2.69</td>\n",
       "      <td>0.39</td>\n",
       "      <td>1.82</td>\n",
       "      <td>4.32</td>\n",
       "      <td>1.04</td>\n",
       "      <td>2.93</td>\n",
       "      <td>735</td>\n",
       "    </tr>\n",
       "  </tbody>\n",
       "</table>\n",
       "</div>"
      ],
      "text/plain": [
       "   Type  Alcohol  Malic   Ash  Alcalinity  Magnesium  Phenols  Flavanoids  \\\n",
       "0     1    14.23   1.71  2.43        15.6        127     2.80        3.06   \n",
       "1     1    13.20   1.78  2.14        11.2        100     2.65        2.76   \n",
       "2     1    13.16   2.36  2.67        18.6        101     2.80        3.24   \n",
       "3     1    14.37   1.95  2.50        16.8        113     3.85        3.49   \n",
       "4     1    13.24   2.59  2.87        21.0        118     2.80        2.69   \n",
       "\n",
       "   Nonflavanoids  Proanthocyanins  Color   Hue  Dilution  Proline  \n",
       "0           0.28             2.29   5.64  1.04      3.92     1065  \n",
       "1           0.26             1.28   4.38  1.05      3.40     1050  \n",
       "2           0.30             2.81   5.68  1.03      3.17     1185  \n",
       "3           0.24             2.18   7.80  0.86      3.45     1480  \n",
       "4           0.39             1.82   4.32  1.04      2.93      735  "
      ]
     },
     "execution_count": 11,
     "metadata": {},
     "output_type": "execute_result"
    }
   ],
   "source": [
    "df = pd.read_csv('wine-2.csv')\n",
    "df.head()"
   ]
  },
  {
   "cell_type": "code",
   "execution_count": 12,
   "metadata": {},
   "outputs": [],
   "source": [
    "X = df.drop('Type', axis=1)\n",
    "y = df['Type']"
   ]
  },
  {
   "cell_type": "markdown",
   "metadata": {},
   "source": [
    "## FEATURE ENGINEERING"
   ]
  },
  {
   "cell_type": "code",
   "execution_count": 13,
   "metadata": {},
   "outputs": [],
   "source": [
    "from sklearn.preprocessing import LabelEncoder\n",
    "le = LabelEncoder() \n",
    "le.fit(y) # fit the encoder\n",
    "y = le.transform(y) # transform the labels"
   ]
  },
  {
   "cell_type": "code",
   "execution_count": 14,
   "metadata": {},
   "outputs": [],
   "source": [
    "# train test split the data\n",
    "X_train, X_test, y_train, y_test = train_test_split(X, y, test_size=0.3, random_state=42)"
   ]
  },
  {
   "cell_type": "markdown",
   "metadata": {},
   "source": [
    "## Min-max scaling"
   ]
  },
  {
   "cell_type": "code",
   "execution_count": 15,
   "metadata": {},
   "outputs": [],
   "source": [
    "from sklearn.preprocessing import MinMaxScaler\n",
    "scaler = MinMaxScaler()\n",
    "X_train_scaled = scaler.fit_transform(X_train)\n",
    "X_test_scaled = scaler.transform(X_test)"
   ]
  },
  {
   "cell_type": "markdown",
   "metadata": {},
   "source": [
    "# Fitting a support vector classifier"
   ]
  },
  {
   "cell_type": "code",
   "execution_count": 16,
   "metadata": {},
   "outputs": [
    {
     "name": "stdout",
     "output_type": "stream",
     "text": [
      "Best parameters set found on development set:\n",
      "\n",
      "{'C': 1, 'kernel': 'linear'}\n",
      "\n",
      "Grid scores on development set:\n",
      "\n",
      "0.571 (+/-0.022) for {'C': 0.01, 'kernel': 'linear'}\n",
      "0.946 (+/-0.033) for {'C': 0.1, 'kernel': 'linear'}\n",
      "0.989 (+/-0.021) for {'C': 1, 'kernel': 'linear'}\n",
      "0.979 (+/-0.042) for {'C': 10, 'kernel': 'linear'}\n"
     ]
    }
   ],
   "source": [
    "param_grid_svc = [{\n",
    "    'C': [0.01, 0.1, 1, 10,],\n",
    "    'kernel': ['linear']\n",
    "    }]\n",
    "\n",
    "svcClassifier = GridSearchCV(\n",
    "    SVC(probability=True), \n",
    "    param_grid_svc, \n",
    "    cv=5, \n",
    "    scoring='accuracy')\n",
    "svcClassifier.fit(X_train_scaled, y_train)\n",
    "\n",
    "print(\"Best parameters set found on development set:\")\n",
    "print()\n",
    "print(svcClassifier.best_params_)\n",
    "print()\n",
    "print(\"Grid scores on development set:\")\n",
    "print()\n",
    "means = svcClassifier.cv_results_[\"mean_test_score\"]\n",
    "stds = svcClassifier.cv_results_[\"std_test_score\"]\n",
    "for mean, std, params in zip(means, stds, svcClassifier.cv_results_[\"params\"]):\n",
    "        print(\"%0.3f (+/-%0.03f) for %r\" % (mean, std, params))"
   ]
  },
  {
   "cell_type": "code",
   "execution_count": 17,
   "metadata": {},
   "outputs": [
    {
     "name": "stdout",
     "output_type": "stream",
     "text": [
      "              precision    recall  f1-score   support\n",
      "\n",
      "           0       0.95      1.00      0.98        20\n",
      "           1       1.00      0.95      0.97        19\n",
      "\n",
      "    accuracy                           0.97        39\n",
      "   macro avg       0.98      0.97      0.97        39\n",
      "weighted avg       0.98      0.97      0.97        39\n",
      "\n"
     ]
    },
    {
     "data": {
      "text/plain": [
       "0.9743589743589743"
      ]
     },
     "execution_count": 17,
     "metadata": {},
     "output_type": "execute_result"
    }
   ],
   "source": [
    "y_pred_svc = svcClassifier.predict(X_test_scaled)\n",
    "y_true, y_pred = y_test, y_pred_svc\n",
    "print(classification_report(y_true, y_pred_svc))\n",
    "sum(y_pred_svc==y_test)/len(y_test)"
   ]
  },
  {
   "cell_type": "markdown",
   "metadata": {},
   "source": [
    "# Fitting a support vector machine with a radial kernel"
   ]
  },
  {
   "cell_type": "code",
   "execution_count": 18,
   "metadata": {},
   "outputs": [
    {
     "name": "stdout",
     "output_type": "stream",
     "text": [
      "Best parameters set found on development set:\n",
      "\n",
      "{'C': 1, 'kernel': 'rbf'}\n",
      "\n",
      "Grid scores on development set:\n",
      "\n",
      "0.571 (+/-0.022) for {'C': 0.01, 'kernel': 'rbf'}\n",
      "0.967 (+/-0.027) for {'C': 0.1, 'kernel': 'rbf'}\n",
      "0.989 (+/-0.021) for {'C': 1, 'kernel': 'rbf'}\n",
      "0.989 (+/-0.021) for {'C': 10, 'kernel': 'rbf'}\n"
     ]
    }
   ],
   "source": [
    "param_grid_svm_r = [{\n",
    "    'C': [0.01, 0.1, 1, 10,],\n",
    "    'kernel': ['rbf']\n",
    "    }]\n",
    "\n",
    "svm_rClassifier = GridSearchCV(\n",
    "    SVC(probability=True), \n",
    "    param_grid_svm_r, \n",
    "    cv=5, \n",
    "    scoring='accuracy')\n",
    "svm_rClassifier.fit(X_train_scaled, y_train)\n",
    "print(\"Best parameters set found on development set:\")\n",
    "print()\n",
    "print(svm_rClassifier.best_params_)\n",
    "print()\n",
    "print(\"Grid scores on development set:\")\n",
    "print()\n",
    "means = svm_rClassifier.cv_results_[\"mean_test_score\"]\n",
    "stds = svm_rClassifier.cv_results_[\"std_test_score\"]\n",
    "for mean, std, params in zip(means, stds, svm_rClassifier.cv_results_[\"params\"]):\n",
    "        print(\"%0.3f (+/-%0.03f) for %r\" % (mean, std, params))"
   ]
  },
  {
   "cell_type": "code",
   "execution_count": 19,
   "metadata": {},
   "outputs": [
    {
     "name": "stdout",
     "output_type": "stream",
     "text": [
      "              precision    recall  f1-score   support\n",
      "\n",
      "           0       1.00      1.00      1.00        20\n",
      "           1       1.00      1.00      1.00        19\n",
      "\n",
      "    accuracy                           1.00        39\n",
      "   macro avg       1.00      1.00      1.00        39\n",
      "weighted avg       1.00      1.00      1.00        39\n",
      "\n"
     ]
    },
    {
     "data": {
      "text/plain": [
       "1.0"
      ]
     },
     "execution_count": 19,
     "metadata": {},
     "output_type": "execute_result"
    }
   ],
   "source": [
    "y_pred_svm_r = svm_rClassifier.predict(X_test_scaled)\n",
    "y_true, y_pred = y_test, y_pred_svm_r\n",
    "print(classification_report(y_true, y_pred_svm_r))\n",
    "sum(y_pred_svm_r==y_test)/len(y_test)"
   ]
  },
  {
   "cell_type": "markdown",
   "metadata": {},
   "source": [
    "# Fitting a support vector machine with a polynomial kernel"
   ]
  },
  {
   "cell_type": "code",
   "execution_count": 20,
   "metadata": {},
   "outputs": [
    {
     "name": "stdout",
     "output_type": "stream",
     "text": [
      "Best parameters set found on development set:\n",
      "\n",
      "{'C': 0.1, 'degree': 2, 'kernel': 'poly'}\n",
      "\n",
      "Grid scores on development set:\n",
      "\n",
      "0.934 (+/-0.023) for {'C': 0.01, 'degree': 2, 'kernel': 'poly'}\n",
      "0.989 (+/-0.021) for {'C': 0.1, 'degree': 2, 'kernel': 'poly'}\n",
      "0.979 (+/-0.042) for {'C': 1, 'degree': 2, 'kernel': 'poly'}\n",
      "0.979 (+/-0.042) for {'C': 10, 'degree': 2, 'kernel': 'poly'}\n"
     ]
    }
   ],
   "source": [
    "param_grid_svm_p = [{\n",
    "    'C': [0.01, 0.1, 1, 10,],\n",
    "    'kernel': ['poly'],\n",
    "    'degree': [2]\n",
    "    }]\n",
    "\n",
    "svm_pClassifier = GridSearchCV(\n",
    "    SVC(probability=True), \n",
    "    param_grid_svm_p, \n",
    "    cv=5, \n",
    "    scoring='accuracy')\n",
    "svm_pClassifier.fit(X_train_scaled, y_train)\n",
    "print(\"Best parameters set found on development set:\")\n",
    "print()\n",
    "print(svm_pClassifier.best_params_)\n",
    "print()\n",
    "print(\"Grid scores on development set:\")\n",
    "print()\n",
    "means = svm_pClassifier.cv_results_[\"mean_test_score\"]\n",
    "stds = svm_pClassifier.cv_results_[\"std_test_score\"]\n",
    "for mean, std, params in zip(means, stds, svm_pClassifier.cv_results_[\"params\"]):\n",
    "        print(\"%0.3f (+/-%0.03f) for %r\" % (mean, std, params))"
   ]
  },
  {
   "cell_type": "code",
   "execution_count": 21,
   "metadata": {},
   "outputs": [
    {
     "name": "stdout",
     "output_type": "stream",
     "text": [
      "              precision    recall  f1-score   support\n",
      "\n",
      "           0       0.95      1.00      0.98        20\n",
      "           1       1.00      0.95      0.97        19\n",
      "\n",
      "    accuracy                           0.97        39\n",
      "   macro avg       0.98      0.97      0.97        39\n",
      "weighted avg       0.98      0.97      0.97        39\n",
      "\n"
     ]
    },
    {
     "data": {
      "text/plain": [
       "0.9743589743589743"
      ]
     },
     "execution_count": 21,
     "metadata": {},
     "output_type": "execute_result"
    }
   ],
   "source": [
    "y_pred_svm_p = svm_pClassifier.predict(X_test_scaled)\n",
    "y_true, y_pred = y_test, y_pred_svm_p\n",
    "print(classification_report(y_true, y_pred_svm_p))\n",
    "sum(y_pred_svm_p==y_test)/len(y_test)"
   ]
  },
  {
   "cell_type": "code",
   "execution_count": 22,
   "metadata": {},
   "outputs": [],
   "source": [
    "svc_probs = svcClassifier.predict_proba(X_test_scaled)\n",
    "svc_probs = svc_probs[:, 1]\n",
    "\n",
    "svm_r_probs = svm_rClassifier.predict_proba(X_test_scaled)\n",
    "svm_r_probs = svm_r_probs[:, 1]\n",
    "\n",
    "svm_p_probs = svm_pClassifier.predict_proba(X_test_scaled)\n",
    "svm_p_probs = svm_p_probs[:, 1]"
   ]
  },
  {
   "cell_type": "code",
   "execution_count": 23,
   "metadata": {},
   "outputs": [],
   "source": [
    "from sklearn.metrics import roc_curve, roc_auc_score\n",
    "svc_auc = roc_auc_score(y_test, svc_probs)\n",
    "svm_r_auc = roc_auc_score(y_test, svm_r_probs)\n",
    "svm_p_auc = roc_auc_score(y_test, svm_p_probs)"
   ]
  },
  {
   "cell_type": "markdown",
   "metadata": {},
   "source": [
    "## Calculating the AUROC "
   ]
  },
  {
   "cell_type": "code",
   "execution_count": 24,
   "metadata": {},
   "outputs": [
    {
     "name": "stdout",
     "output_type": "stream",
     "text": [
      "Support Vector Machine: AUROC = 1.000000\n",
      "Support Vector Machine with RBF Kernel: AUROC = 1.000000\n",
      "Support Vector Machine with Polynomial Kernel: AUROC = 1.000000\n"
     ]
    }
   ],
   "source": [
    "print(\"Support Vector Machine: AUROC = %3f\" %(svc_auc))\n",
    "print(\"Support Vector Machine with RBF Kernel: AUROC = %3f\" %(svm_r_auc))\n",
    "print(\"Support Vector Machine with Polynomial Kernel: AUROC = %3f\" %(svm_p_auc))"
   ]
  },
  {
   "cell_type": "code",
   "execution_count": 25,
   "metadata": {},
   "outputs": [],
   "source": [
    "svc_fpr, svc_tpr, _ = roc_curve(y_test, svc_probs)\n",
    "svm_r_fpr, svm_r_tpr, _ = roc_curve(y_test, svm_r_probs)\n",
    "svm_p_fpr, svm_p_tpr, _ = roc_curve(y_test, svm_p_probs)"
   ]
  },
  {
   "cell_type": "markdown",
   "metadata": {},
   "source": [
    "## Plotting the three ROC curves for test predictions"
   ]
  },
  {
   "cell_type": "code",
   "execution_count": 26,
   "metadata": {},
   "outputs": [
    {
     "data": {
      "image/png": "[encoded data removed]",
      "text/plain": [
       "<Figure size 1080x720 with 1 Axes>"
      ]
     },
     "metadata": {
      "needs_background": "light"
     },
     "output_type": "display_data"
    }
   ],
   "source": [
    "plt.figure(figsize=(15,10))\n",
    "plt.plot(svc_fpr, svc_tpr, label='SVC (AUC = %0.2f)' % svc_auc)\n",
    "plt.plot(svm_r_fpr, svm_r_tpr, label='SVM with RBF Kernel (AUC = %0.2f)' % svm_r_auc)\n",
    "plt.plot(svm_p_fpr, svm_p_tpr, label='SVM with Polynomial Kernel (AUC = %0.2f)' % svm_p_auc)\n",
    "\n",
    "plt.legend()\n",
    "plt.show()"
   ]
  },
  {
   "cell_type": "markdown",
   "metadata": {},
   "source": [
    "## Decision tree classifier"
   ]
  },
  {
   "cell_type": "code",
   "execution_count": 27,
   "metadata": {},
   "outputs": [],
   "source": [
    "from sklearn.ensemble import RandomForestClassifier\n",
    "from sklearn.tree import DecisionTreeClassifier\n",
    "from sklearn.model_selection import cross_val_score"
   ]
  },
  {
   "cell_type": "markdown",
   "metadata": {},
   "source": [
    "## Finding the best parameters for the decision tree model"
   ]
  },
  {
   "cell_type": "code",
   "execution_count": 28,
   "metadata": {},
   "outputs": [
    {
     "name": "stdout",
     "output_type": "stream",
     "text": [
      "Best parameters set found on development set:\n",
      "\n",
      "{'criterion': 'gini', 'max_depth': 2, 'min_samples_split': 12}\n",
      "\n",
      "Grid scores on development set:\n",
      "\n",
      "0.956 (+/-0.041) for {'criterion': 'gini', 'max_depth': 2, 'min_samples_split': 2}\n",
      "0.956 (+/-0.054) for {'criterion': 'gini', 'max_depth': 2, 'min_samples_split': 3}\n",
      "0.956 (+/-0.041) for {'criterion': 'gini', 'max_depth': 2, 'min_samples_split': 4}\n",
      "0.967 (+/-0.044) for {'criterion': 'gini', 'max_depth': 2, 'min_samples_split': 5}\n",
      "0.967 (+/-0.044) for {'criterion': 'gini', 'max_depth': 2, 'min_samples_split': 6}\n",
      "0.946 (+/-0.048) for {'criterion': 'gini', 'max_depth': 2, 'min_samples_split': 7}\n",
      "0.967 (+/-0.044) for {'criterion': 'gini', 'max_depth': 2, 'min_samples_split': 8}\n",
      "0.946 (+/-0.068) for {'criterion': 'gini', 'max_depth': 2, 'min_samples_split': 9}\n",
      "0.946 (+/-0.048) for {'criterion': 'gini', 'max_depth': 2, 'min_samples_split': 10}\n",
      "0.967 (+/-0.044) for {'criterion': 'gini', 'max_depth': 2, 'min_samples_split': 11}\n",
      "0.978 (+/-0.044) for {'criterion': 'gini', 'max_depth': 2, 'min_samples_split': 12}\n",
      "0.946 (+/-0.068) for {'criterion': 'gini', 'max_depth': 2, 'min_samples_split': 13}\n",
      "0.935 (+/-0.062) for {'criterion': 'gini', 'max_depth': 2, 'min_samples_split': 14}\n",
      "0.967 (+/-0.044) for {'criterion': 'gini', 'max_depth': 2, 'min_samples_split': 15}\n",
      "0.956 (+/-0.041) for {'criterion': 'gini', 'max_depth': 2, 'min_samples_split': 16}\n",
      "0.935 (+/-0.062) for {'criterion': 'gini', 'max_depth': 2, 'min_samples_split': 17}\n",
      "0.956 (+/-0.041) for {'criterion': 'gini', 'max_depth': 2, 'min_samples_split': 18}\n",
      "0.946 (+/-0.068) for {'criterion': 'gini', 'max_depth': 2, 'min_samples_split': 19}\n",
      "0.924 (+/-0.064) for {'criterion': 'gini', 'max_depth': 2, 'min_samples_split': 20}\n",
      "0.902 (+/-0.070) for {'criterion': 'gini', 'max_depth': 3, 'min_samples_split': 2}\n",
      "0.924 (+/-0.064) for {'criterion': 'gini', 'max_depth': 3, 'min_samples_split': 3}\n",
      "0.935 (+/-0.040) for {'criterion': 'gini', 'max_depth': 3, 'min_samples_split': 4}\n",
      "0.978 (+/-0.044) for {'criterion': 'gini', 'max_depth': 3, 'min_samples_split': 5}\n",
      "0.946 (+/-0.068) for {'criterion': 'gini', 'max_depth': 3, 'min_samples_split': 6}\n",
      "0.946 (+/-0.048) for {'criterion': 'gini', 'max_depth': 3, 'min_samples_split': 7}\n",
      "0.956 (+/-0.041) for {'criterion': 'gini', 'max_depth': 3, 'min_samples_split': 8}\n",
      "0.946 (+/-0.048) for {'criterion': 'gini', 'max_depth': 3, 'min_samples_split': 9}\n",
      "0.935 (+/-0.062) for {'criterion': 'gini', 'max_depth': 3, 'min_samples_split': 10}\n",
      "0.956 (+/-0.041) for {'criterion': 'gini', 'max_depth': 3, 'min_samples_split': 11}\n",
      "0.967 (+/-0.044) for {'criterion': 'gini', 'max_depth': 3, 'min_samples_split': 12}\n",
      "0.935 (+/-0.054) for {'criterion': 'gini', 'max_depth': 3, 'min_samples_split': 13}\n",
      "0.946 (+/-0.068) for {'criterion': 'gini', 'max_depth': 3, 'min_samples_split': 14}\n",
      "0.945 (+/-0.050) for {'criterion': 'gini', 'max_depth': 3, 'min_samples_split': 15}\n",
      "0.946 (+/-0.048) for {'criterion': 'gini', 'max_depth': 3, 'min_samples_split': 16}\n",
      "0.956 (+/-0.041) for {'criterion': 'gini', 'max_depth': 3, 'min_samples_split': 17}\n",
      "0.935 (+/-0.054) for {'criterion': 'gini', 'max_depth': 3, 'min_samples_split': 18}\n",
      "0.946 (+/-0.068) for {'criterion': 'gini', 'max_depth': 3, 'min_samples_split': 19}\n",
      "0.967 (+/-0.044) for {'criterion': 'gini', 'max_depth': 3, 'min_samples_split': 20}\n",
      "0.923 (+/-0.066) for {'criterion': 'gini', 'max_depth': 4, 'min_samples_split': 2}\n",
      "0.923 (+/-0.066) for {'criterion': 'gini', 'max_depth': 4, 'min_samples_split': 3}\n",
      "0.912 (+/-0.056) for {'criterion': 'gini', 'max_depth': 4, 'min_samples_split': 4}\n",
      "0.946 (+/-0.048) for {'criterion': 'gini', 'max_depth': 4, 'min_samples_split': 5}\n",
      "0.946 (+/-0.048) for {'criterion': 'gini', 'max_depth': 4, 'min_samples_split': 6}\n",
      "0.946 (+/-0.048) for {'criterion': 'gini', 'max_depth': 4, 'min_samples_split': 7}\n",
      "0.946 (+/-0.048) for {'criterion': 'gini', 'max_depth': 4, 'min_samples_split': 8}\n",
      "0.935 (+/-0.062) for {'criterion': 'gini', 'max_depth': 4, 'min_samples_split': 9}\n",
      "0.946 (+/-0.048) for {'criterion': 'gini', 'max_depth': 4, 'min_samples_split': 10}\n",
      "0.935 (+/-0.062) for {'criterion': 'gini', 'max_depth': 4, 'min_samples_split': 11}\n",
      "0.967 (+/-0.044) for {'criterion': 'gini', 'max_depth': 4, 'min_samples_split': 12}\n",
      "0.957 (+/-0.053) for {'criterion': 'gini', 'max_depth': 4, 'min_samples_split': 13}\n",
      "0.956 (+/-0.041) for {'criterion': 'gini', 'max_depth': 4, 'min_samples_split': 14}\n",
      "0.956 (+/-0.041) for {'criterion': 'gini', 'max_depth': 4, 'min_samples_split': 15}\n",
      "0.946 (+/-0.048) for {'criterion': 'gini', 'max_depth': 4, 'min_samples_split': 16}\n",
      "0.957 (+/-0.053) for {'criterion': 'gini', 'max_depth': 4, 'min_samples_split': 17}\n",
      "0.945 (+/-0.050) for {'criterion': 'gini', 'max_depth': 4, 'min_samples_split': 18}\n",
      "0.946 (+/-0.048) for {'criterion': 'gini', 'max_depth': 4, 'min_samples_split': 19}\n",
      "0.935 (+/-0.062) for {'criterion': 'gini', 'max_depth': 4, 'min_samples_split': 20}\n",
      "0.924 (+/-0.054) for {'criterion': 'gini', 'max_depth': 5, 'min_samples_split': 2}\n",
      "0.923 (+/-0.044) for {'criterion': 'gini', 'max_depth': 5, 'min_samples_split': 3}\n",
      "0.946 (+/-0.068) for {'criterion': 'gini', 'max_depth': 5, 'min_samples_split': 4}\n",
      "0.946 (+/-0.048) for {'criterion': 'gini', 'max_depth': 5, 'min_samples_split': 5}\n",
      "0.946 (+/-0.068) for {'criterion': 'gini', 'max_depth': 5, 'min_samples_split': 6}\n",
      "0.946 (+/-0.048) for {'criterion': 'gini', 'max_depth': 5, 'min_samples_split': 7}\n",
      "0.935 (+/-0.062) for {'criterion': 'gini', 'max_depth': 5, 'min_samples_split': 8}\n",
      "0.967 (+/-0.044) for {'criterion': 'gini', 'max_depth': 5, 'min_samples_split': 9}\n",
      "0.967 (+/-0.044) for {'criterion': 'gini', 'max_depth': 5, 'min_samples_split': 10}\n",
      "0.956 (+/-0.041) for {'criterion': 'gini', 'max_depth': 5, 'min_samples_split': 11}\n",
      "0.935 (+/-0.062) for {'criterion': 'gini', 'max_depth': 5, 'min_samples_split': 12}\n",
      "0.935 (+/-0.054) for {'criterion': 'gini', 'max_depth': 5, 'min_samples_split': 13}\n",
      "0.946 (+/-0.048) for {'criterion': 'gini', 'max_depth': 5, 'min_samples_split': 14}\n",
      "0.957 (+/-0.053) for {'criterion': 'gini', 'max_depth': 5, 'min_samples_split': 15}\n",
      "0.956 (+/-0.041) for {'criterion': 'gini', 'max_depth': 5, 'min_samples_split': 16}\n",
      "0.956 (+/-0.041) for {'criterion': 'gini', 'max_depth': 5, 'min_samples_split': 17}\n",
      "0.946 (+/-0.068) for {'criterion': 'gini', 'max_depth': 5, 'min_samples_split': 18}\n",
      "0.946 (+/-0.068) for {'criterion': 'gini', 'max_depth': 5, 'min_samples_split': 19}\n",
      "0.946 (+/-0.048) for {'criterion': 'gini', 'max_depth': 5, 'min_samples_split': 20}\n",
      "0.913 (+/-0.041) for {'criterion': 'gini', 'max_depth': 6, 'min_samples_split': 2}\n",
      "0.902 (+/-0.039) for {'criterion': 'gini', 'max_depth': 6, 'min_samples_split': 3}\n",
      "0.935 (+/-0.040) for {'criterion': 'gini', 'max_depth': 6, 'min_samples_split': 4}\n",
      "0.956 (+/-0.041) for {'criterion': 'gini', 'max_depth': 6, 'min_samples_split': 5}\n",
      "0.946 (+/-0.048) for {'criterion': 'gini', 'max_depth': 6, 'min_samples_split': 6}\n",
      "0.946 (+/-0.048) for {'criterion': 'gini', 'max_depth': 6, 'min_samples_split': 7}\n",
      "0.935 (+/-0.062) for {'criterion': 'gini', 'max_depth': 6, 'min_samples_split': 8}\n",
      "0.924 (+/-0.064) for {'criterion': 'gini', 'max_depth': 6, 'min_samples_split': 9}\n",
      "0.945 (+/-0.050) for {'criterion': 'gini', 'max_depth': 6, 'min_samples_split': 10}\n",
      "0.978 (+/-0.044) for {'criterion': 'gini', 'max_depth': 6, 'min_samples_split': 11}\n",
      "0.946 (+/-0.048) for {'criterion': 'gini', 'max_depth': 6, 'min_samples_split': 12}\n",
      "0.967 (+/-0.044) for {'criterion': 'gini', 'max_depth': 6, 'min_samples_split': 13}\n",
      "0.956 (+/-0.054) for {'criterion': 'gini', 'max_depth': 6, 'min_samples_split': 14}\n",
      "0.978 (+/-0.044) for {'criterion': 'gini', 'max_depth': 6, 'min_samples_split': 15}\n",
      "0.967 (+/-0.044) for {'criterion': 'gini', 'max_depth': 6, 'min_samples_split': 16}\n",
      "0.946 (+/-0.048) for {'criterion': 'gini', 'max_depth': 6, 'min_samples_split': 17}\n",
      "0.957 (+/-0.053) for {'criterion': 'gini', 'max_depth': 6, 'min_samples_split': 18}\n",
      "0.956 (+/-0.041) for {'criterion': 'gini', 'max_depth': 6, 'min_samples_split': 19}\n",
      "0.967 (+/-0.044) for {'criterion': 'gini', 'max_depth': 6, 'min_samples_split': 20}\n",
      "0.945 (+/-0.035) for {'criterion': 'gini', 'max_depth': 7, 'min_samples_split': 2}\n",
      "0.902 (+/-0.070) for {'criterion': 'gini', 'max_depth': 7, 'min_samples_split': 3}\n",
      "0.923 (+/-0.044) for {'criterion': 'gini', 'max_depth': 7, 'min_samples_split': 4}\n",
      "0.935 (+/-0.054) for {'criterion': 'gini', 'max_depth': 7, 'min_samples_split': 5}\n",
      "0.924 (+/-0.064) for {'criterion': 'gini', 'max_depth': 7, 'min_samples_split': 6}\n",
      "0.967 (+/-0.044) for {'criterion': 'gini', 'max_depth': 7, 'min_samples_split': 7}\n",
      "0.956 (+/-0.041) for {'criterion': 'gini', 'max_depth': 7, 'min_samples_split': 8}\n",
      "0.946 (+/-0.048) for {'criterion': 'gini', 'max_depth': 7, 'min_samples_split': 9}\n",
      "0.956 (+/-0.041) for {'criterion': 'gini', 'max_depth': 7, 'min_samples_split': 10}\n",
      "0.945 (+/-0.050) for {'criterion': 'gini', 'max_depth': 7, 'min_samples_split': 11}\n",
      "0.946 (+/-0.048) for {'criterion': 'gini', 'max_depth': 7, 'min_samples_split': 12}\n",
      "0.946 (+/-0.048) for {'criterion': 'gini', 'max_depth': 7, 'min_samples_split': 13}\n",
      "0.967 (+/-0.044) for {'criterion': 'gini', 'max_depth': 7, 'min_samples_split': 14}\n",
      "0.935 (+/-0.054) for {'criterion': 'gini', 'max_depth': 7, 'min_samples_split': 15}\n",
      "0.935 (+/-0.054) for {'criterion': 'gini', 'max_depth': 7, 'min_samples_split': 16}\n",
      "0.957 (+/-0.053) for {'criterion': 'gini', 'max_depth': 7, 'min_samples_split': 17}\n",
      "0.946 (+/-0.048) for {'criterion': 'gini', 'max_depth': 7, 'min_samples_split': 18}\n",
      "0.967 (+/-0.044) for {'criterion': 'gini', 'max_depth': 7, 'min_samples_split': 19}\n",
      "0.946 (+/-0.068) for {'criterion': 'gini', 'max_depth': 7, 'min_samples_split': 20}\n",
      "0.913 (+/-0.054) for {'criterion': 'gini', 'max_depth': 8, 'min_samples_split': 2}\n",
      "0.956 (+/-0.041) for {'criterion': 'gini', 'max_depth': 8, 'min_samples_split': 3}\n",
      "0.956 (+/-0.054) for {'criterion': 'gini', 'max_depth': 8, 'min_samples_split': 4}\n",
      "0.946 (+/-0.048) for {'criterion': 'gini', 'max_depth': 8, 'min_samples_split': 5}\n",
      "0.946 (+/-0.048) for {'criterion': 'gini', 'max_depth': 8, 'min_samples_split': 6}\n",
      "0.935 (+/-0.062) for {'criterion': 'gini', 'max_depth': 8, 'min_samples_split': 7}\n",
      "0.935 (+/-0.054) for {'criterion': 'gini', 'max_depth': 8, 'min_samples_split': 8}\n",
      "0.935 (+/-0.062) for {'criterion': 'gini', 'max_depth': 8, 'min_samples_split': 9}\n",
      "0.946 (+/-0.048) for {'criterion': 'gini', 'max_depth': 8, 'min_samples_split': 10}\n",
      "0.967 (+/-0.044) for {'criterion': 'gini', 'max_depth': 8, 'min_samples_split': 11}\n",
      "0.967 (+/-0.044) for {'criterion': 'gini', 'max_depth': 8, 'min_samples_split': 12}\n",
      "0.956 (+/-0.041) for {'criterion': 'gini', 'max_depth': 8, 'min_samples_split': 13}\n",
      "0.935 (+/-0.062) for {'criterion': 'gini', 'max_depth': 8, 'min_samples_split': 14}\n",
      "0.945 (+/-0.050) for {'criterion': 'gini', 'max_depth': 8, 'min_samples_split': 15}\n",
      "0.946 (+/-0.048) for {'criterion': 'gini', 'max_depth': 8, 'min_samples_split': 16}\n",
      "0.935 (+/-0.054) for {'criterion': 'gini', 'max_depth': 8, 'min_samples_split': 17}\n",
      "0.967 (+/-0.044) for {'criterion': 'gini', 'max_depth': 8, 'min_samples_split': 18}\n",
      "0.946 (+/-0.048) for {'criterion': 'gini', 'max_depth': 8, 'min_samples_split': 19}\n",
      "0.935 (+/-0.062) for {'criterion': 'gini', 'max_depth': 8, 'min_samples_split': 20}\n",
      "0.923 (+/-0.044) for {'criterion': 'gini', 'max_depth': 9, 'min_samples_split': 2}\n",
      "0.944 (+/-0.050) for {'criterion': 'gini', 'max_depth': 9, 'min_samples_split': 3}\n",
      "0.902 (+/-0.063) for {'criterion': 'gini', 'max_depth': 9, 'min_samples_split': 4}\n",
      "0.956 (+/-0.041) for {'criterion': 'gini', 'max_depth': 9, 'min_samples_split': 5}\n",
      "0.935 (+/-0.062) for {'criterion': 'gini', 'max_depth': 9, 'min_samples_split': 6}\n",
      "0.956 (+/-0.041) for {'criterion': 'gini', 'max_depth': 9, 'min_samples_split': 7}\n",
      "0.946 (+/-0.048) for {'criterion': 'gini', 'max_depth': 9, 'min_samples_split': 8}\n",
      "0.957 (+/-0.053) for {'criterion': 'gini', 'max_depth': 9, 'min_samples_split': 9}\n",
      "0.945 (+/-0.050) for {'criterion': 'gini', 'max_depth': 9, 'min_samples_split': 10}\n",
      "0.946 (+/-0.068) for {'criterion': 'gini', 'max_depth': 9, 'min_samples_split': 11}\n",
      "0.946 (+/-0.048) for {'criterion': 'gini', 'max_depth': 9, 'min_samples_split': 12}\n",
      "0.935 (+/-0.062) for {'criterion': 'gini', 'max_depth': 9, 'min_samples_split': 13}\n",
      "0.935 (+/-0.062) for {'criterion': 'gini', 'max_depth': 9, 'min_samples_split': 14}\n",
      "0.956 (+/-0.041) for {'criterion': 'gini', 'max_depth': 9, 'min_samples_split': 15}\n",
      "0.946 (+/-0.068) for {'criterion': 'gini', 'max_depth': 9, 'min_samples_split': 16}\n",
      "0.956 (+/-0.054) for {'criterion': 'gini', 'max_depth': 9, 'min_samples_split': 17}\n",
      "0.957 (+/-0.053) for {'criterion': 'gini', 'max_depth': 9, 'min_samples_split': 18}\n",
      "0.946 (+/-0.048) for {'criterion': 'gini', 'max_depth': 9, 'min_samples_split': 19}\n",
      "0.946 (+/-0.048) for {'criterion': 'gini', 'max_depth': 9, 'min_samples_split': 20}\n",
      "0.913 (+/-0.079) for {'criterion': 'gini', 'max_depth': 10, 'min_samples_split': 2}\n",
      "0.956 (+/-0.041) for {'criterion': 'gini', 'max_depth': 10, 'min_samples_split': 3}\n",
      "0.935 (+/-0.062) for {'criterion': 'gini', 'max_depth': 10, 'min_samples_split': 4}\n",
      "0.946 (+/-0.048) for {'criterion': 'gini', 'max_depth': 10, 'min_samples_split': 5}\n",
      "0.978 (+/-0.044) for {'criterion': 'gini', 'max_depth': 10, 'min_samples_split': 6}\n",
      "0.946 (+/-0.048) for {'criterion': 'gini', 'max_depth': 10, 'min_samples_split': 7}\n",
      "0.935 (+/-0.062) for {'criterion': 'gini', 'max_depth': 10, 'min_samples_split': 8}\n",
      "0.956 (+/-0.041) for {'criterion': 'gini', 'max_depth': 10, 'min_samples_split': 9}\n",
      "0.946 (+/-0.048) for {'criterion': 'gini', 'max_depth': 10, 'min_samples_split': 10}\n",
      "0.978 (+/-0.044) for {'criterion': 'gini', 'max_depth': 10, 'min_samples_split': 11}\n",
      "0.967 (+/-0.044) for {'criterion': 'gini', 'max_depth': 10, 'min_samples_split': 12}\n",
      "0.935 (+/-0.062) for {'criterion': 'gini', 'max_depth': 10, 'min_samples_split': 13}\n",
      "0.956 (+/-0.054) for {'criterion': 'gini', 'max_depth': 10, 'min_samples_split': 14}\n",
      "0.967 (+/-0.044) for {'criterion': 'gini', 'max_depth': 10, 'min_samples_split': 15}\n",
      "0.935 (+/-0.062) for {'criterion': 'gini', 'max_depth': 10, 'min_samples_split': 16}\n",
      "0.946 (+/-0.048) for {'criterion': 'gini', 'max_depth': 10, 'min_samples_split': 17}\n",
      "0.956 (+/-0.041) for {'criterion': 'gini', 'max_depth': 10, 'min_samples_split': 18}\n",
      "0.956 (+/-0.041) for {'criterion': 'gini', 'max_depth': 10, 'min_samples_split': 19}\n",
      "0.945 (+/-0.050) for {'criterion': 'gini', 'max_depth': 10, 'min_samples_split': 20}\n",
      "0.913 (+/-0.079) for {'criterion': 'gini', 'max_depth': None, 'min_samples_split': 2}\n",
      "0.967 (+/-0.044) for {'criterion': 'gini', 'max_depth': None, 'min_samples_split': 3}\n",
      "0.923 (+/-0.044) for {'criterion': 'gini', 'max_depth': None, 'min_samples_split': 4}\n",
      "0.957 (+/-0.053) for {'criterion': 'gini', 'max_depth': None, 'min_samples_split': 5}\n",
      "0.967 (+/-0.044) for {'criterion': 'gini', 'max_depth': None, 'min_samples_split': 6}\n",
      "0.935 (+/-0.062) for {'criterion': 'gini', 'max_depth': None, 'min_samples_split': 7}\n",
      "0.956 (+/-0.041) for {'criterion': 'gini', 'max_depth': None, 'min_samples_split': 8}\n",
      "0.946 (+/-0.048) for {'criterion': 'gini', 'max_depth': None, 'min_samples_split': 9}\n",
      "0.935 (+/-0.054) for {'criterion': 'gini', 'max_depth': None, 'min_samples_split': 10}\n",
      "0.956 (+/-0.041) for {'criterion': 'gini', 'max_depth': None, 'min_samples_split': 11}\n",
      "0.967 (+/-0.044) for {'criterion': 'gini', 'max_depth': None, 'min_samples_split': 12}\n",
      "0.945 (+/-0.050) for {'criterion': 'gini', 'max_depth': None, 'min_samples_split': 13}\n",
      "0.956 (+/-0.041) for {'criterion': 'gini', 'max_depth': None, 'min_samples_split': 14}\n",
      "0.935 (+/-0.054) for {'criterion': 'gini', 'max_depth': None, 'min_samples_split': 15}\n",
      "0.935 (+/-0.054) for {'criterion': 'gini', 'max_depth': None, 'min_samples_split': 16}\n",
      "0.967 (+/-0.044) for {'criterion': 'gini', 'max_depth': None, 'min_samples_split': 17}\n",
      "0.935 (+/-0.062) for {'criterion': 'gini', 'max_depth': None, 'min_samples_split': 18}\n",
      "0.978 (+/-0.044) for {'criterion': 'gini', 'max_depth': None, 'min_samples_split': 19}\n",
      "0.957 (+/-0.053) for {'criterion': 'gini', 'max_depth': None, 'min_samples_split': 20}\n",
      "0.956 (+/-0.041) for {'criterion': 'entropy', 'max_depth': 2, 'min_samples_split': 2}\n",
      "0.956 (+/-0.041) for {'criterion': 'entropy', 'max_depth': 2, 'min_samples_split': 3}\n",
      "0.946 (+/-0.048) for {'criterion': 'entropy', 'max_depth': 2, 'min_samples_split': 4}\n",
      "0.967 (+/-0.044) for {'criterion': 'entropy', 'max_depth': 2, 'min_samples_split': 5}\n",
      "0.946 (+/-0.048) for {'criterion': 'entropy', 'max_depth': 2, 'min_samples_split': 6}\n",
      "0.945 (+/-0.050) for {'criterion': 'entropy', 'max_depth': 2, 'min_samples_split': 7}\n",
      "0.967 (+/-0.044) for {'criterion': 'entropy', 'max_depth': 2, 'min_samples_split': 8}\n",
      "0.945 (+/-0.050) for {'criterion': 'entropy', 'max_depth': 2, 'min_samples_split': 9}\n",
      "0.935 (+/-0.062) for {'criterion': 'entropy', 'max_depth': 2, 'min_samples_split': 10}\n",
      "0.956 (+/-0.041) for {'criterion': 'entropy', 'max_depth': 2, 'min_samples_split': 11}\n",
      "0.935 (+/-0.054) for {'criterion': 'entropy', 'max_depth': 2, 'min_samples_split': 12}\n",
      "0.946 (+/-0.048) for {'criterion': 'entropy', 'max_depth': 2, 'min_samples_split': 13}\n",
      "0.935 (+/-0.062) for {'criterion': 'entropy', 'max_depth': 2, 'min_samples_split': 14}\n",
      "0.946 (+/-0.048) for {'criterion': 'entropy', 'max_depth': 2, 'min_samples_split': 15}\n",
      "0.957 (+/-0.053) for {'criterion': 'entropy', 'max_depth': 2, 'min_samples_split': 16}\n",
      "0.956 (+/-0.041) for {'criterion': 'entropy', 'max_depth': 2, 'min_samples_split': 17}\n",
      "0.957 (+/-0.053) for {'criterion': 'entropy', 'max_depth': 2, 'min_samples_split': 18}\n",
      "0.978 (+/-0.044) for {'criterion': 'entropy', 'max_depth': 2, 'min_samples_split': 19}\n",
      "0.967 (+/-0.044) for {'criterion': 'entropy', 'max_depth': 2, 'min_samples_split': 20}\n",
      "0.934 (+/-0.042) for {'criterion': 'entropy', 'max_depth': 3, 'min_samples_split': 2}\n",
      "0.935 (+/-0.062) for {'criterion': 'entropy', 'max_depth': 3, 'min_samples_split': 3}\n",
      "0.945 (+/-0.050) for {'criterion': 'entropy', 'max_depth': 3, 'min_samples_split': 4}\n",
      "0.935 (+/-0.054) for {'criterion': 'entropy', 'max_depth': 3, 'min_samples_split': 5}\n",
      "0.956 (+/-0.041) for {'criterion': 'entropy', 'max_depth': 3, 'min_samples_split': 6}\n",
      "0.935 (+/-0.062) for {'criterion': 'entropy', 'max_depth': 3, 'min_samples_split': 7}\n",
      "0.956 (+/-0.041) for {'criterion': 'entropy', 'max_depth': 3, 'min_samples_split': 8}\n",
      "0.956 (+/-0.041) for {'criterion': 'entropy', 'max_depth': 3, 'min_samples_split': 9}\n",
      "0.956 (+/-0.054) for {'criterion': 'entropy', 'max_depth': 3, 'min_samples_split': 10}\n",
      "0.956 (+/-0.041) for {'criterion': 'entropy', 'max_depth': 3, 'min_samples_split': 11}\n",
      "0.967 (+/-0.044) for {'criterion': 'entropy', 'max_depth': 3, 'min_samples_split': 12}\n",
      "0.957 (+/-0.053) for {'criterion': 'entropy', 'max_depth': 3, 'min_samples_split': 13}\n",
      "0.967 (+/-0.044) for {'criterion': 'entropy', 'max_depth': 3, 'min_samples_split': 14}\n",
      "0.945 (+/-0.050) for {'criterion': 'entropy', 'max_depth': 3, 'min_samples_split': 15}\n",
      "0.956 (+/-0.041) for {'criterion': 'entropy', 'max_depth': 3, 'min_samples_split': 16}\n",
      "0.935 (+/-0.054) for {'criterion': 'entropy', 'max_depth': 3, 'min_samples_split': 17}\n",
      "0.935 (+/-0.062) for {'criterion': 'entropy', 'max_depth': 3, 'min_samples_split': 18}\n",
      "0.956 (+/-0.054) for {'criterion': 'entropy', 'max_depth': 3, 'min_samples_split': 19}\n",
      "0.935 (+/-0.054) for {'criterion': 'entropy', 'max_depth': 3, 'min_samples_split': 20}\n",
      "0.924 (+/-0.054) for {'criterion': 'entropy', 'max_depth': 4, 'min_samples_split': 2}\n",
      "0.957 (+/-0.053) for {'criterion': 'entropy', 'max_depth': 4, 'min_samples_split': 3}\n",
      "0.956 (+/-0.041) for {'criterion': 'entropy', 'max_depth': 4, 'min_samples_split': 4}\n",
      "0.956 (+/-0.041) for {'criterion': 'entropy', 'max_depth': 4, 'min_samples_split': 5}\n",
      "0.946 (+/-0.048) for {'criterion': 'entropy', 'max_depth': 4, 'min_samples_split': 6}\n",
      "0.956 (+/-0.041) for {'criterion': 'entropy', 'max_depth': 4, 'min_samples_split': 7}\n",
      "0.967 (+/-0.044) for {'criterion': 'entropy', 'max_depth': 4, 'min_samples_split': 8}\n",
      "0.946 (+/-0.068) for {'criterion': 'entropy', 'max_depth': 4, 'min_samples_split': 9}\n",
      "0.957 (+/-0.053) for {'criterion': 'entropy', 'max_depth': 4, 'min_samples_split': 10}\n",
      "0.935 (+/-0.062) for {'criterion': 'entropy', 'max_depth': 4, 'min_samples_split': 11}\n",
      "0.957 (+/-0.053) for {'criterion': 'entropy', 'max_depth': 4, 'min_samples_split': 12}\n",
      "0.935 (+/-0.062) for {'criterion': 'entropy', 'max_depth': 4, 'min_samples_split': 13}\n",
      "0.956 (+/-0.041) for {'criterion': 'entropy', 'max_depth': 4, 'min_samples_split': 14}\n",
      "0.935 (+/-0.054) for {'criterion': 'entropy', 'max_depth': 4, 'min_samples_split': 15}\n",
      "0.967 (+/-0.044) for {'criterion': 'entropy', 'max_depth': 4, 'min_samples_split': 16}\n",
      "0.956 (+/-0.041) for {'criterion': 'entropy', 'max_depth': 4, 'min_samples_split': 17}\n",
      "0.967 (+/-0.044) for {'criterion': 'entropy', 'max_depth': 4, 'min_samples_split': 18}\n",
      "0.935 (+/-0.062) for {'criterion': 'entropy', 'max_depth': 4, 'min_samples_split': 19}\n",
      "0.945 (+/-0.050) for {'criterion': 'entropy', 'max_depth': 4, 'min_samples_split': 20}\n",
      "0.945 (+/-0.050) for {'criterion': 'entropy', 'max_depth': 5, 'min_samples_split': 2}\n",
      "0.945 (+/-0.050) for {'criterion': 'entropy', 'max_depth': 5, 'min_samples_split': 3}\n",
      "0.945 (+/-0.035) for {'criterion': 'entropy', 'max_depth': 5, 'min_samples_split': 4}\n",
      "0.946 (+/-0.048) for {'criterion': 'entropy', 'max_depth': 5, 'min_samples_split': 5}\n",
      "0.956 (+/-0.041) for {'criterion': 'entropy', 'max_depth': 5, 'min_samples_split': 6}\n",
      "0.946 (+/-0.048) for {'criterion': 'entropy', 'max_depth': 5, 'min_samples_split': 7}\n",
      "0.957 (+/-0.053) for {'criterion': 'entropy', 'max_depth': 5, 'min_samples_split': 8}\n",
      "0.956 (+/-0.041) for {'criterion': 'entropy', 'max_depth': 5, 'min_samples_split': 9}\n",
      "0.946 (+/-0.048) for {'criterion': 'entropy', 'max_depth': 5, 'min_samples_split': 10}\n",
      "0.924 (+/-0.064) for {'criterion': 'entropy', 'max_depth': 5, 'min_samples_split': 11}\n",
      "0.935 (+/-0.062) for {'criterion': 'entropy', 'max_depth': 5, 'min_samples_split': 12}\n",
      "0.967 (+/-0.044) for {'criterion': 'entropy', 'max_depth': 5, 'min_samples_split': 13}\n",
      "0.924 (+/-0.064) for {'criterion': 'entropy', 'max_depth': 5, 'min_samples_split': 14}\n",
      "0.967 (+/-0.044) for {'criterion': 'entropy', 'max_depth': 5, 'min_samples_split': 15}\n",
      "0.924 (+/-0.064) for {'criterion': 'entropy', 'max_depth': 5, 'min_samples_split': 16}\n",
      "0.945 (+/-0.050) for {'criterion': 'entropy', 'max_depth': 5, 'min_samples_split': 17}\n",
      "0.956 (+/-0.041) for {'criterion': 'entropy', 'max_depth': 5, 'min_samples_split': 18}\n",
      "0.935 (+/-0.054) for {'criterion': 'entropy', 'max_depth': 5, 'min_samples_split': 19}\n",
      "0.935 (+/-0.062) for {'criterion': 'entropy', 'max_depth': 5, 'min_samples_split': 20}\n",
      "0.967 (+/-0.044) for {'criterion': 'entropy', 'max_depth': 6, 'min_samples_split': 2}\n",
      "0.946 (+/-0.068) for {'criterion': 'entropy', 'max_depth': 6, 'min_samples_split': 3}\n",
      "0.956 (+/-0.041) for {'criterion': 'entropy', 'max_depth': 6, 'min_samples_split': 4}\n",
      "0.956 (+/-0.041) for {'criterion': 'entropy', 'max_depth': 6, 'min_samples_split': 5}\n",
      "0.946 (+/-0.048) for {'criterion': 'entropy', 'max_depth': 6, 'min_samples_split': 6}\n",
      "0.935 (+/-0.054) for {'criterion': 'entropy', 'max_depth': 6, 'min_samples_split': 7}\n",
      "0.967 (+/-0.044) for {'criterion': 'entropy', 'max_depth': 6, 'min_samples_split': 8}\n",
      "0.967 (+/-0.044) for {'criterion': 'entropy', 'max_depth': 6, 'min_samples_split': 9}\n",
      "0.956 (+/-0.041) for {'criterion': 'entropy', 'max_depth': 6, 'min_samples_split': 10}\n",
      "0.956 (+/-0.041) for {'criterion': 'entropy', 'max_depth': 6, 'min_samples_split': 11}\n",
      "0.957 (+/-0.053) for {'criterion': 'entropy', 'max_depth': 6, 'min_samples_split': 12}\n",
      "0.956 (+/-0.054) for {'criterion': 'entropy', 'max_depth': 6, 'min_samples_split': 13}\n",
      "0.945 (+/-0.050) for {'criterion': 'entropy', 'max_depth': 6, 'min_samples_split': 14}\n",
      "0.956 (+/-0.041) for {'criterion': 'entropy', 'max_depth': 6, 'min_samples_split': 15}\n",
      "0.945 (+/-0.050) for {'criterion': 'entropy', 'max_depth': 6, 'min_samples_split': 16}\n",
      "0.956 (+/-0.054) for {'criterion': 'entropy', 'max_depth': 6, 'min_samples_split': 17}\n",
      "0.924 (+/-0.064) for {'criterion': 'entropy', 'max_depth': 6, 'min_samples_split': 18}\n",
      "0.935 (+/-0.062) for {'criterion': 'entropy', 'max_depth': 6, 'min_samples_split': 19}\n",
      "0.956 (+/-0.041) for {'criterion': 'entropy', 'max_depth': 6, 'min_samples_split': 20}\n",
      "0.935 (+/-0.062) for {'criterion': 'entropy', 'max_depth': 7, 'min_samples_split': 2}\n",
      "0.945 (+/-0.035) for {'criterion': 'entropy', 'max_depth': 7, 'min_samples_split': 3}\n",
      "0.913 (+/-0.041) for {'criterion': 'entropy', 'max_depth': 7, 'min_samples_split': 4}\n",
      "0.967 (+/-0.044) for {'criterion': 'entropy', 'max_depth': 7, 'min_samples_split': 5}\n",
      "0.946 (+/-0.048) for {'criterion': 'entropy', 'max_depth': 7, 'min_samples_split': 6}\n",
      "0.946 (+/-0.068) for {'criterion': 'entropy', 'max_depth': 7, 'min_samples_split': 7}\n",
      "0.956 (+/-0.041) for {'criterion': 'entropy', 'max_depth': 7, 'min_samples_split': 8}\n",
      "0.967 (+/-0.044) for {'criterion': 'entropy', 'max_depth': 7, 'min_samples_split': 9}\n",
      "0.935 (+/-0.054) for {'criterion': 'entropy', 'max_depth': 7, 'min_samples_split': 10}\n",
      "0.956 (+/-0.054) for {'criterion': 'entropy', 'max_depth': 7, 'min_samples_split': 11}\n",
      "0.945 (+/-0.050) for {'criterion': 'entropy', 'max_depth': 7, 'min_samples_split': 12}\n",
      "0.946 (+/-0.048) for {'criterion': 'entropy', 'max_depth': 7, 'min_samples_split': 13}\n",
      "0.967 (+/-0.044) for {'criterion': 'entropy', 'max_depth': 7, 'min_samples_split': 14}\n",
      "0.956 (+/-0.041) for {'criterion': 'entropy', 'max_depth': 7, 'min_samples_split': 15}\n",
      "0.946 (+/-0.048) for {'criterion': 'entropy', 'max_depth': 7, 'min_samples_split': 16}\n",
      "0.945 (+/-0.050) for {'criterion': 'entropy', 'max_depth': 7, 'min_samples_split': 17}\n",
      "0.967 (+/-0.044) for {'criterion': 'entropy', 'max_depth': 7, 'min_samples_split': 18}\n",
      "0.967 (+/-0.044) for {'criterion': 'entropy', 'max_depth': 7, 'min_samples_split': 19}\n",
      "0.946 (+/-0.048) for {'criterion': 'entropy', 'max_depth': 7, 'min_samples_split': 20}\n",
      "0.935 (+/-0.062) for {'criterion': 'entropy', 'max_depth': 8, 'min_samples_split': 2}\n",
      "0.924 (+/-0.054) for {'criterion': 'entropy', 'max_depth': 8, 'min_samples_split': 3}\n",
      "0.967 (+/-0.044) for {'criterion': 'entropy', 'max_depth': 8, 'min_samples_split': 4}\n",
      "0.956 (+/-0.041) for {'criterion': 'entropy', 'max_depth': 8, 'min_samples_split': 5}\n",
      "0.957 (+/-0.053) for {'criterion': 'entropy', 'max_depth': 8, 'min_samples_split': 6}\n",
      "0.956 (+/-0.041) for {'criterion': 'entropy', 'max_depth': 8, 'min_samples_split': 7}\n",
      "0.935 (+/-0.062) for {'criterion': 'entropy', 'max_depth': 8, 'min_samples_split': 8}\n",
      "0.957 (+/-0.053) for {'criterion': 'entropy', 'max_depth': 8, 'min_samples_split': 9}\n",
      "0.935 (+/-0.062) for {'criterion': 'entropy', 'max_depth': 8, 'min_samples_split': 10}\n",
      "0.967 (+/-0.044) for {'criterion': 'entropy', 'max_depth': 8, 'min_samples_split': 11}\n",
      "0.935 (+/-0.054) for {'criterion': 'entropy', 'max_depth': 8, 'min_samples_split': 12}\n",
      "0.946 (+/-0.048) for {'criterion': 'entropy', 'max_depth': 8, 'min_samples_split': 13}\n",
      "0.924 (+/-0.064) for {'criterion': 'entropy', 'max_depth': 8, 'min_samples_split': 14}\n",
      "0.935 (+/-0.062) for {'criterion': 'entropy', 'max_depth': 8, 'min_samples_split': 15}\n",
      "0.924 (+/-0.064) for {'criterion': 'entropy', 'max_depth': 8, 'min_samples_split': 16}\n",
      "0.946 (+/-0.068) for {'criterion': 'entropy', 'max_depth': 8, 'min_samples_split': 17}\n",
      "0.956 (+/-0.041) for {'criterion': 'entropy', 'max_depth': 8, 'min_samples_split': 18}\n",
      "0.935 (+/-0.054) for {'criterion': 'entropy', 'max_depth': 8, 'min_samples_split': 19}\n",
      "0.924 (+/-0.064) for {'criterion': 'entropy', 'max_depth': 8, 'min_samples_split': 20}\n",
      "0.923 (+/-0.066) for {'criterion': 'entropy', 'max_depth': 9, 'min_samples_split': 2}\n",
      "0.935 (+/-0.054) for {'criterion': 'entropy', 'max_depth': 9, 'min_samples_split': 3}\n",
      "0.923 (+/-0.028) for {'criterion': 'entropy', 'max_depth': 9, 'min_samples_split': 4}\n",
      "0.945 (+/-0.050) for {'criterion': 'entropy', 'max_depth': 9, 'min_samples_split': 5}\n",
      "0.946 (+/-0.048) for {'criterion': 'entropy', 'max_depth': 9, 'min_samples_split': 6}\n",
      "0.946 (+/-0.048) for {'criterion': 'entropy', 'max_depth': 9, 'min_samples_split': 7}\n",
      "0.946 (+/-0.068) for {'criterion': 'entropy', 'max_depth': 9, 'min_samples_split': 8}\n",
      "0.978 (+/-0.044) for {'criterion': 'entropy', 'max_depth': 9, 'min_samples_split': 9}\n",
      "0.946 (+/-0.068) for {'criterion': 'entropy', 'max_depth': 9, 'min_samples_split': 10}\n",
      "0.945 (+/-0.050) for {'criterion': 'entropy', 'max_depth': 9, 'min_samples_split': 11}\n",
      "0.946 (+/-0.048) for {'criterion': 'entropy', 'max_depth': 9, 'min_samples_split': 12}\n",
      "0.946 (+/-0.048) for {'criterion': 'entropy', 'max_depth': 9, 'min_samples_split': 13}\n",
      "0.956 (+/-0.041) for {'criterion': 'entropy', 'max_depth': 9, 'min_samples_split': 14}\n",
      "0.956 (+/-0.041) for {'criterion': 'entropy', 'max_depth': 9, 'min_samples_split': 15}\n",
      "0.935 (+/-0.054) for {'criterion': 'entropy', 'max_depth': 9, 'min_samples_split': 16}\n",
      "0.967 (+/-0.044) for {'criterion': 'entropy', 'max_depth': 9, 'min_samples_split': 17}\n",
      "0.946 (+/-0.048) for {'criterion': 'entropy', 'max_depth': 9, 'min_samples_split': 18}\n",
      "0.967 (+/-0.044) for {'criterion': 'entropy', 'max_depth': 9, 'min_samples_split': 19}\n",
      "0.924 (+/-0.064) for {'criterion': 'entropy', 'max_depth': 9, 'min_samples_split': 20}\n",
      "0.945 (+/-0.050) for {'criterion': 'entropy', 'max_depth': 10, 'min_samples_split': 2}\n",
      "0.934 (+/-0.065) for {'criterion': 'entropy', 'max_depth': 10, 'min_samples_split': 3}\n",
      "0.935 (+/-0.054) for {'criterion': 'entropy', 'max_depth': 10, 'min_samples_split': 4}\n",
      "0.946 (+/-0.048) for {'criterion': 'entropy', 'max_depth': 10, 'min_samples_split': 5}\n",
      "0.935 (+/-0.062) for {'criterion': 'entropy', 'max_depth': 10, 'min_samples_split': 6}\n",
      "0.956 (+/-0.054) for {'criterion': 'entropy', 'max_depth': 10, 'min_samples_split': 7}\n",
      "0.978 (+/-0.044) for {'criterion': 'entropy', 'max_depth': 10, 'min_samples_split': 8}\n",
      "0.967 (+/-0.044) for {'criterion': 'entropy', 'max_depth': 10, 'min_samples_split': 9}\n",
      "0.935 (+/-0.054) for {'criterion': 'entropy', 'max_depth': 10, 'min_samples_split': 10}\n",
      "0.935 (+/-0.062) for {'criterion': 'entropy', 'max_depth': 10, 'min_samples_split': 11}\n",
      "0.935 (+/-0.054) for {'criterion': 'entropy', 'max_depth': 10, 'min_samples_split': 12}\n",
      "0.945 (+/-0.050) for {'criterion': 'entropy', 'max_depth': 10, 'min_samples_split': 13}\n",
      "0.946 (+/-0.068) for {'criterion': 'entropy', 'max_depth': 10, 'min_samples_split': 14}\n",
      "0.956 (+/-0.041) for {'criterion': 'entropy', 'max_depth': 10, 'min_samples_split': 15}\n",
      "0.935 (+/-0.054) for {'criterion': 'entropy', 'max_depth': 10, 'min_samples_split': 16}\n",
      "0.967 (+/-0.044) for {'criterion': 'entropy', 'max_depth': 10, 'min_samples_split': 17}\n",
      "0.956 (+/-0.041) for {'criterion': 'entropy', 'max_depth': 10, 'min_samples_split': 18}\n",
      "0.978 (+/-0.044) for {'criterion': 'entropy', 'max_depth': 10, 'min_samples_split': 19}\n",
      "0.956 (+/-0.041) for {'criterion': 'entropy', 'max_depth': 10, 'min_samples_split': 20}\n",
      "0.902 (+/-0.039) for {'criterion': 'entropy', 'max_depth': None, 'min_samples_split': 2}\n",
      "0.935 (+/-0.040) for {'criterion': 'entropy', 'max_depth': None, 'min_samples_split': 3}\n",
      "0.945 (+/-0.050) for {'criterion': 'entropy', 'max_depth': None, 'min_samples_split': 4}\n",
      "0.946 (+/-0.048) for {'criterion': 'entropy', 'max_depth': None, 'min_samples_split': 5}\n",
      "0.945 (+/-0.050) for {'criterion': 'entropy', 'max_depth': None, 'min_samples_split': 6}\n",
      "0.967 (+/-0.044) for {'criterion': 'entropy', 'max_depth': None, 'min_samples_split': 7}\n",
      "0.978 (+/-0.044) for {'criterion': 'entropy', 'max_depth': None, 'min_samples_split': 8}\n",
      "0.935 (+/-0.054) for {'criterion': 'entropy', 'max_depth': None, 'min_samples_split': 9}\n",
      "0.946 (+/-0.048) for {'criterion': 'entropy', 'max_depth': None, 'min_samples_split': 10}\n",
      "0.935 (+/-0.062) for {'criterion': 'entropy', 'max_depth': None, 'min_samples_split': 11}\n",
      "0.946 (+/-0.048) for {'criterion': 'entropy', 'max_depth': None, 'min_samples_split': 12}\n",
      "0.956 (+/-0.041) for {'criterion': 'entropy', 'max_depth': None, 'min_samples_split': 13}\n",
      "0.956 (+/-0.041) for {'criterion': 'entropy', 'max_depth': None, 'min_samples_split': 14}\n",
      "0.935 (+/-0.062) for {'criterion': 'entropy', 'max_depth': None, 'min_samples_split': 15}\n",
      "0.957 (+/-0.053) for {'criterion': 'entropy', 'max_depth': None, 'min_samples_split': 16}\n",
      "0.978 (+/-0.044) for {'criterion': 'entropy', 'max_depth': None, 'min_samples_split': 17}\n",
      "0.978 (+/-0.044) for {'criterion': 'entropy', 'max_depth': None, 'min_samples_split': 18}\n",
      "0.946 (+/-0.048) for {'criterion': 'entropy', 'max_depth': None, 'min_samples_split': 19}\n",
      "0.967 (+/-0.044) for {'criterion': 'entropy', 'max_depth': None, 'min_samples_split': 20}\n"
     ]
    }
   ],
   "source": [
    "param_grid_dt = [{\n",
    "    'max_depth': [2, 3, 4, 5, 6, 7, 8, 9, 10, None],\n",
    "    'min_samples_split': [2, 3, 4, 5, 6, 7, 8, 9, 10, 11, 12, 13, 14, 15, 16, 17, 18, 19, 20],\n",
    "    'criterion': ['gini', 'entropy']\n",
    "    }]\n",
    "    \n",
    "dtClassifier = GridSearchCV( \n",
    "    DecisionTreeClassifier(),\n",
    "    param_grid_dt,\n",
    "    cv=5,\n",
    "    scoring='accuracy')\n",
    "dtClassifier.fit(X_train_scaled, y_train)\n",
    "print(\"Best parameters set found on development set:\")\n",
    "print()\n",
    "print(dtClassifier.best_params_)\n",
    "print()\n",
    "print(\"Grid scores on development set:\")\n",
    "print()\n",
    "means = dtClassifier.cv_results_[\"mean_test_score\"]\n",
    "stds = dtClassifier.cv_results_[\"std_test_score\"]\n",
    "for mean, std, params in zip(means, stds, dtClassifier.cv_results_[\"params\"]):\n",
    "        print(\"%0.3f (+/-%0.03f) for %r\" % (mean, std, params))"
   ]
  },
  {
   "cell_type": "code",
   "execution_count": 29,
   "metadata": {},
   "outputs": [
    {
     "name": "stdout",
     "output_type": "stream",
     "text": [
      "[0.84210526 0.88888889 1.         1.         0.88888889]\n"
     ]
    },
    {
     "data": {
      "text/plain": [
       "0.9239766081871345"
      ]
     },
     "execution_count": 29,
     "metadata": {},
     "output_type": "execute_result"
    }
   ],
   "source": [
    "dt = DecisionTreeClassifier(criterion = 'gini', max_depth = 2, min_samples_split = 13) \n",
    "# here ccp_alpha is the complexity parameter. you can tune it by cross-validation as in knn and svm. here I use \n",
    "# a fixed value for illustration\n",
    "# evaluate model performance by cross-validation\n",
    "scores_dt = cross_val_score(dt, X_train_scaled, y_train, cv=5, scoring='accuracy')\n",
    "print(scores_dt)\n",
    "scores_dt.mean()"
   ]
  },
  {
   "cell_type": "markdown",
   "metadata": {},
   "source": [
    "## Plotting the pruned tree"
   ]
  },
  {
   "cell_type": "code",
   "execution_count": 30,
   "metadata": {},
   "outputs": [
    {
     "data": {
      "image/png": "[encoded data removed]",
      "text/plain": [
       "<Figure size 1200x1200 with 1 Axes>"
      ]
     },
     "metadata": {
      "needs_background": "light"
     },
     "output_type": "display_data"
    }
   ],
   "source": [
    "import matplotlib.pyplot as plt\n",
    "from sklearn import tree\n",
    "# visualise tree\n",
    "dt_vis=dt.fit(X_test_scaled,y_test)\n",
    "fn = ['Alcohol', 'Malic', 'Ash', 'Alcalinity', 'Magnesium', 'Phenols',\n",
    "       'Flavanoids', 'Nonflavanoids', 'Proanthocyanins', 'Color', 'Hue',\n",
    "       'Dilution', 'Proline']\n",
    "cn = ['Type 1', 'Type 2']\n",
    "fig, axes = plt.subplots(nrows = 1,ncols = 1,figsize = (4,4), dpi=300)\n",
    "tree.plot_tree(dt_vis,\n",
    "               feature_names = fn, \n",
    "               class_names=cn,\n",
    "               filled = True);"
   ]
  },
  {
   "cell_type": "markdown",
   "metadata": {},
   "source": [
    "# Random Forest Classifier"
   ]
  },
  {
   "cell_type": "markdown",
   "metadata": {},
   "source": [
    "## Finding the best parameters based on max features"
   ]
  },
  {
   "cell_type": "code",
   "execution_count": 31,
   "metadata": {},
   "outputs": [
    {
     "name": "stdout",
     "output_type": "stream",
     "text": [
      "Best parameters set found on development set:\n",
      "\n",
      "{'max_features': 1}\n",
      "\n",
      "Grid scores on development set:\n",
      "\n",
      "0.989 (+/-0.021) for {'max_features': 1}\n",
      "0.968 (+/-0.042) for {'max_features': 2}\n",
      "0.989 (+/-0.021) for {'max_features': 3}\n",
      "0.978 (+/-0.027) for {'max_features': 4}\n",
      "0.967 (+/-0.027) for {'max_features': 5}\n",
      "0.957 (+/-0.040) for {'max_features': 6}\n"
     ]
    }
   ],
   "source": [
    "param_grid_rf = [{\n",
    "    'max_features': [1,2,3,4,5,6]\n",
    "    }]\n",
    "\n",
    "rfClassifier = GridSearchCV( \n",
    "    RandomForestClassifier(),\n",
    "    param_grid_rf,\n",
    "    cv=5,\n",
    "    scoring='accuracy')\n",
    "rfClassifier.fit(X_train_scaled, y_train)\n",
    "print(\"Best parameters set found on development set:\")\n",
    "print()\n",
    "print(rfClassifier.best_params_)\n",
    "print()\n",
    "print(\"Grid scores on development set:\")\n",
    "print()\n",
    "means = rfClassifier.cv_results_[\"mean_test_score\"]\n",
    "stds = rfClassifier.cv_results_[\"std_test_score\"]\n",
    "for mean, std, params in zip(means, stds, rfClassifier.cv_results_[\"params\"]):\n",
    "        print(\"%0.3f (+/-%0.03f) for %r\" % (mean, std, params))"
   ]
  },
  {
   "cell_type": "code",
   "execution_count": 32,
   "metadata": {},
   "outputs": [
    {
     "name": "stdout",
     "output_type": "stream",
     "text": [
      "[1.    1.    0.875 1.    1.   ]\n"
     ]
    },
    {
     "data": {
      "text/plain": [
       "0.975"
      ]
     },
     "execution_count": 32,
     "metadata": {},
     "output_type": "execute_result"
    }
   ],
   "source": [
    "rf = RandomForestClassifier(max_features = 2)\n",
    "\n",
    "scores_rf = cross_val_score(rf, X_test_scaled, y_test, cv=5, scoring='accuracy')\n",
    "print(scores_rf)\n",
    "scores_rf.mean()"
   ]
  },
  {
   "cell_type": "markdown",
   "metadata": {},
   "source": [
    "## Plotting the variable importance"
   ]
  },
  {
   "cell_type": "code",
   "execution_count": 33,
   "metadata": {},
   "outputs": [
    {
     "name": "stdout",
     "output_type": "stream",
     "text": [
      "[0.25281506 0.03745626 0.04692723 0.03217103 0.03468088 0.10650642\n",
      " 0.11203486 0.02448156 0.02043547 0.11727641 0.02557419 0.03168156\n",
      " 0.15795908]\n",
      "[0.39377663 0.1268718  0.13685319 0.10760533 0.1158416  0.21431392\n",
      " 0.23752598 0.08651566 0.06673924 0.27333745 0.06432021 0.0884977\n",
      " 0.2730738 ]\n",
      "\n",
      "Alcohol            0.252815\n",
      "Malic              0.037456\n",
      "Ash                0.046927\n",
      "Alcalinity         0.032171\n",
      "Magnesium          0.034681\n",
      "Phenols            0.106506\n",
      "Flavanoids         0.112035\n",
      "Nonflavanoids      0.024482\n",
      "Proanthocyanins    0.020435\n",
      "Color              0.117276\n",
      "Hue                0.025574\n",
      "Dilution           0.031682\n",
      "Proline            0.157959\n",
      "dtype: float64\n"
     ]
    },
    {
     "data": {
      "image/png": "[encoded data removed]",
      "text/plain": [
       "<Figure size 432x288 with 1 Axes>"
      ]
     },
     "metadata": {
      "needs_background": "light"
     },
     "output_type": "display_data"
    }
   ],
   "source": [
    "rf_var=rf.fit(X_test_scaled,y_test)\n",
    "importances = rf_var.feature_importances_\n",
    "std = np.std([tree.feature_importances_ for tree in rf_var.estimators_], axis=0)\n",
    "print(importances)\n",
    "print(std)\n",
    "print()\n",
    "\n",
    "forest_importances = pd.Series(importances, index=['Alcohol', 'Malic', 'Ash', 'Alcalinity', 'Magnesium', 'Phenols',\n",
    "       'Flavanoids', 'Nonflavanoids', 'Proanthocyanins', 'Color', 'Hue',\n",
    "       'Dilution', 'Proline'])\n",
    "print(forest_importances)\n",
    "\n",
    "fig, ax = plt.subplots()\n",
    "forest_importances.plot.bar(yerr=std, ax=ax)\n",
    "ax.set_title(\"Feature importances using MDI\")\n",
    "ax.set_ylabel(\"Mean decrease in impurity\")\n",
    "fig.tight_layout()"
   ]
  }
 ],
 "metadata": {
  "kernelspec": {
   "display_name": "Python 3.8.13 ('vsc')",
   "language": "python",
   "name": "python3"
  },
  "language_info": {
   "codemirror_mode": {
    "name": "ipython",
    "version": 3
   },
   "file_extension": ".py",
   "mimetype": "text/x-python",
   "name": "python",
   "nbconvert_exporter": "python",
   "pygments_lexer": "ipython3",
   "version": "3.8.13"
  },
  "orig_nbformat": 4,
  "vscode": {
   "interpreter": {
    "hash": "8f73dfce8eac205e72a0762bbfd4cefa361d835f6b5906d8e30b655c73483a07"
   }
  }
 },
 "nbformat": 4,
 "nbformat_minor": 2
}
